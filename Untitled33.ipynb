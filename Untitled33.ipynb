{
  "nbformat": 4,
  "nbformat_minor": 0,
  "metadata": {
    "colab": {
      "provenance": [],
      "authorship_tag": "ABX9TyNFgIxq5H9KONHfVC2OGte3",
      "include_colab_link": true
    },
    "kernelspec": {
      "name": "python3",
      "display_name": "Python 3"
    },
    "language_info": {
      "name": "python"
    }
  },
  "cells": [
    {
      "cell_type": "markdown",
      "metadata": {
        "id": "view-in-github",
        "colab_type": "text"
      },
      "source": [
        "<a href=\"https://colab.research.google.com/github/anandsai410/Blockchain-technologies-Assignment-I/blob/main/Untitled33.ipynb\" target=\"_parent\"><img src=\"https://colab.research.google.com/assets/colab-badge.svg\" alt=\"Open In Colab\"/></a>"
      ]
    },
    {
      "cell_type": "code",
      "execution_count": 2,
      "metadata": {
        "id": "lUvOrnxbsijZ",
        "colab": {
          "base_uri": "https://localhost:8080/"
        },
        "outputId": "3645fe0f-d4b8-4a0c-92ed-2c43b0129373"
      },
      "outputs": [
        {
          "output_type": "stream",
          "name": "stderr",
          "text": [
            "/usr/local/lib/python3.10/dist-packages/openpyxl/styles/stylesheet.py:226: UserWarning: Workbook contains no default style, apply openpyxl's default\n",
            "  warn(\"Workbook contains no default style, apply openpyxl's default\")\n"
          ]
        }
      ],
      "source": [
        "#dependencies on the dataset:\n",
        "#needed order: Manager, External Info, ORT Manual, no of columns=11\n",
        "\n",
        "import pandas as pd\n",
        "\n",
        "data = pd.read_excel(\"Global_data_1305_IP.xlsx\")"
      ]
    },
    {
      "cell_type": "code",
      "source": [
        "df=pd.DataFrame()\n",
        "df[\"Manager\"]=data[\"Manager\"]\n",
        "df[\"External Info\"]=data[\"External Info\"]\n",
        "df[\"ORT Manual\"]=data[\"ORT Manual\"]\n"
      ],
      "metadata": {
        "id": "KTCL9xX3jRhL"
      },
      "execution_count": 3,
      "outputs": []
    }
  ]
}