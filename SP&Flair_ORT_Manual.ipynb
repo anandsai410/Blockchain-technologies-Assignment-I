{
  "nbformat": 4,
  "nbformat_minor": 0,
  "metadata": {
    "colab": {
      "provenance": [],
      "authorship_tag": "ABX9TyMf/tHR22uO6zSZolnprN9Y",
      "include_colab_link": true
    },
    "kernelspec": {
      "name": "python3",
      "display_name": "Python 3"
    },
    "language_info": {
      "name": "python"
    }
  },
  "cells": [
    {
      "cell_type": "markdown",
      "metadata": {
        "id": "view-in-github",
        "colab_type": "text"
      },
      "source": [
        "<a href=\"https://colab.research.google.com/github/anandsai410/Blockchain-technologies-Assignment-I/blob/main/SP%26Flair_ORT_Manual.ipynb\" target=\"_parent\"><img src=\"https://colab.research.google.com/assets/colab-badge.svg\" alt=\"Open In Colab\"/></a>"
      ]
    },
    {
      "cell_type": "code",
      "execution_count": 1,
      "metadata": {
        "id": "lUvOrnxbsijZ",
        "colab": {
          "base_uri": "https://localhost:8080/"
        },
        "outputId": "76d4560a-9166-469e-f684-a9b6684eb762"
      },
      "outputs": [
        {
          "output_type": "stream",
          "name": "stderr",
          "text": [
            "[nltk_data] Downloading package punkt to /root/nltk_data...\n",
            "[nltk_data]   Package punkt is already up-to-date!\n"
          ]
        }
      ],
      "source": [
        "import nltk\n",
        "import datetime\n",
        "from nltk.tokenize import sent_tokenize\n",
        "from nltk.tokenize import word_tokenize\n",
        "nltk.download('punkt')\n",
        "from nltk import punkt\n",
        "import openpyxl\n",
        "import pandas as pd\n",
        "import numpy as np\n",
        "import re\n",
        "from datetime import datetime, date, time, timedelta\n",
        "import time\n",
        "from dateutil.parser import parser\n",
        "from dateutil.relativedelta import relativedelta\n",
        "parser=parser()\n",
        "import spacy\n",
        "from flair.models import SequenceTagger\n",
        "from flair.data import Sentence"
      ]
    },
    {
      "cell_type": "code",
      "source": [
        "text=\"\"\".Hi there,&nbsp;.Just letting you know that the engineering team is still investigating your issue. I will get back to you with an update by 19/04.&nbsp;.Kind Regards,.Gyorgy.Hello Carlos,&nbsp;.Thank you for the provided information. Since I get this ticket from other colleagues it might be easier for me to better under understand the issue if you will provide for me additional information.&nbsp;.Could you please provide me with the following information:.Once I have investigated further, I will let you know my findings..Appreciate your cooperation..Kind Regards,.Gy&ouml;rgy.SAP Cloud Product Support.Hi there,&nbsp;.Thank you for the provided information!&nbsp;.Please note, that since the case has been no treated as a Very High Priority ticket and it seems like the issue has been resolved,&nbsp;we would like to inform you that as per our support process guidelines we have lowered the priority of this case to Medium..However, if you are still facing any issues with, please let me know.&nbsp;.Kind Regards,&nbsp;.Gyorgy.Hello Carlos,&nbsp;.Thanks for your responce.&nbsp;.1.Glad that you successfully imported SAP Test_255235/2024 Copy (2). &nbsp;Then are you still facing import issue? If yes, please provide all reports' name that still has issue when importing..2.Are you able to run or modify SAP Test_255235/2024 Copy (2)? If no, please provide the error screenshot. If yes, please provide all reports' name that still has issue when running or editing. It would be more helpful if you can add screenshots as it seems like that issue can not be reproduced from SAP side..Thank you..Best regards,<br />Alicia<br />SAP Support.Dear customer,.Our expert will continue to work on this incident and will give you an update as soon as they have new information..Thanks &amp; regards,<br />Mriganka Bairagi.Thanks Carlos for the additional info.&nbsp; Please let us know the result..Hello Carlos,&nbsp;.Our engineering team is asking for more details..1. How many reports have this issue? Is the issue specific to one specific report? (We can successfully export and import a simple report on Development Goals using csadmin or your account ESDENICOCA. test report name is: SAP Test_255235/2024).2. Could you please export the test report 'SAP Test_255235/2024' from nestleHRgtpBX then import it in nestleHRprdBX. Please verify using csadmin and your account ESDENICOCA and let us know the result..3. Is the problem consistently reproducible? (From the case history, it seems like that you imported successfully once(&ldquo;no goals&rdquo; ) after you reported the issue, and SAP side imported successfully many times and never failed).Looking forward to your reply..Thank you!.<br />Best regards,<br />Alicia<br />SAP Support.Hello Carlos,&nbsp;.We are waiting for engineering team's update. Rest assured that we will keep you posted on the progress.<br />Thanks for your patience..Best regards,<br />Irineo<br />SAP Support.Hello Carlos,&nbsp;.We are waiting for engineering team's update. Rest assured that we will keep you posted on the progress.<br />Thanks for your patience..Best regards,<br />Alicia<br />SAP Support.Hello Carlos,&nbsp;.Thanks for updating, we are monitoring engineering incident and we will keep you posted..Best regards,.Jean-Claude.SAP Support.Hello Carlos,&nbsp;.Thanks for providing the requested details.we are now working with engineering colleagues and might need to allow time for them to investigate the issue, we will update you soon..Thank you again for your patience regarding this issue..Best regards,.SAP Support.Hello Carlos,&nbsp;.I will create an internal ticket with our engineering team to get this reviewed and we will keep you informed. Considering it is a vh priority the case will be moved to the next region to continue reviewing it..Tobias.Hello Carlos,&nbsp;.Thank you for your help on this and the conversation on the chat. As discussed I reviewed the configuration of the canvas report and may have found a potention issue that is causing this inconsistencies that we saw on the call and on the chat..I am currently discussing with engineering team and I will keep you updated..Tobias.Hello Carlos,&nbsp;.As discussed I will continue investigating on this and update you..Hi Carlos,&nbsp;.I send the invite on Teams. Talk to you soon..Tobias.Hi Carlos,.I called you at +34-676316113 and leave a message. I went through the ticket and I would like to have a call with you for live troubleshoting. Would you have some time today so we can review this live? Please provide some times and your time zone..Tobias.Hello Carlos,.I am Tobias and I am the product lead for analytics. I will investigate this behavior again and provide another update today..Tobias.Hi there,&nbsp;.I was able to log in to your instance and check the issue..There are two causes for this issue:.First step is to verify if logged-in user, receiving the error message, can create a new Report &gt; Canvas in Report Center..If user is not able to create new Canvas report, verify RBP permissions for this user in \"View User Permissions\" on Admin Center. The following permissions under \"Analytics Permissions\" should be enabled for user:&nbsp;<em>Report Canvas Editing</em>&nbsp;or&nbsp;<em>Report Canvas Administration Permissions</em>&nbsp;(to import)..Set the default role on the analytics admin.&nbsp;<strong>NOTE:</strong>&nbsp;Only the user who was the first to log in to the analytics and has the implementation partner role on the analytics admin is able to make this change, in:.Kind Regards,&nbsp;.Gyorgy.Hi Carlos,.My name is Gy&ouml;rgy from People Analytics team..I'm looking into your issue and will come back to you by 14:00 CET..Kind Regards,.Gy&ouml;rgy.SAP Cloud Product Support.<br/>Contact name: Carlos DeNicolas<br/>Contact phone or email: +34-676316113<br/>Channel: Call to customer<br/><br/>Interaction summary: <br/><p>Contact name: Carlos DeNicolas.Contact phone: &#43;34-676316113.Reached: Y.Dear Carlos,.Thank you for your time on the meeting with screen share and collected details..We will further investigate the issue with our internal experts and will update you ASAP...Kind Regards,<br />Hamid, DEA<br />MCC Business Down Management, IE.Dear Carlos,.<br />&nbsp;<br />I am the De-Escalation Architect assigned by the Mission Control Centre (MCC) Business Down Management (BDM) team to your case during the EMEA time zone and I will be helping you, together with my colleagues, to assist in the development of a solution for your issue..<br />I will call you shortly to discuss the current situation and to align on the next steps to be taken..<br />If you have any questions, please do not hesitate to contact me directly via this incident..<br />&nbsp;<br />Kind Regards,<br />Hamid, DEA<br />MCC Business Down Management, IE.Hi Carlos,<br /><br />For clarification, do you still can't import Report canvas with development goal domain?<br /><br />Have you tried to export a new version of the report definition (xml) and try to import it?<br />Then from the source system, does the development goals report running without issue, before you export it?<br /><br />Thank you!<br /><br />.Best regards,.Lovely&nbsp;<br />Product Support &ndash; People<br />SAP Support.Hi Carlos,<br /><br />I'm glad to know that issue on the other report is fixed as well.<br /><br />What I can advise for this issue, is if you are transferring report from one instance to another, please check if you can run the report from the source system and see if the columns and template added in the report will match to fields and template in the Target system.<br /><br />Please continue to monitor the uploaded reports and update us if you observe same issue.<br /><br />Thank you!<br /><br />.Best regards,.Lovely&nbsp;<br />Product Support &ndash; People<br />SAP Support.Hi Carlos,<br /><br />What is the name of the Report (for Development Goal List) that I can test for export and import?<br /><br />Thank you!<br /><br />.Best regards,.Lovely&nbsp;<br />Product Support &ndash; People<br />SAP Support.Hi Carlos,.I'm assuming Development Goals - List #Backup is the report exported for Development Goals - List report. Can you try to export this and import again then let me know of the result..Thank you!.Best regards,.Lovely&nbsp;<br />Product Support &ndash; People<br />SAP Support.Hi Carlos,<br /><br />Can you confirm first if you can now see the reports I imported.<br /><br />Then can you also try export them again and import.<br /><br />Thank you!<br /><br />.Best regards,.Lovely&nbsp;<br />Product Support &ndash; People<br />SAP Support.Hi Carlos,.I was able to import both Development goals report while proxy as your account. I see no issue on this report: Employees with NO Development Goals.<br />But this one displays error: Development Goals - List. It seems that there is no query added on the component on this canvas. May I know where you downloaded it so I can check the configuration of the report..Thank you!.Best regards,.Lovely&nbsp;<br />Product Support &ndash; People<br />SAP Support.Hi Carlos,<br /><br />Can you share name of the affected user so we can check user's permission for ORD.<br /><br />Thank you!<br /><br />.Best regards,.Lovely&nbsp;<br />Product Support &ndash; People<br />SAP Support.Hi Carlos,<br /><br />I successfully imported the report \"<a id=\"__link27\" tabindex=\"0\" title=\"Employees with NO Development Goals\" href=\"https://performancemanager.successfactors.eu/xi/ui/reportcenter/pages/reportCenter.xhtml?bplte_company=nestleHRprdBX&amp;_s.crb=0zJqupftHvFaNxGYl23FpS94Ur0zcUzAxSDRT%252bl45Ic%253d#\" data-sap-ui-render=\"\" data-sap-ui=\"__link27\">Employees with NO Development Goals</a>\" in nestleHRprdBX report center. (see attached image).<br /><br />Can you try the other report. Let me know of the result.<br /><br />Thank you!<br /><br />.Best regards,.Lovely&nbsp;<br />Product Support &ndash; People<br />SAP Support.Hi Carlos,<br /><br />Can you add the attachment again as I am not seeing it on the case. Thank you!<br /><br />.Best regards,.Lovely&nbsp;<br />Product Support &ndash; People<br />SAP Support.Hi Carlos,.Good day!.My name is Lovely and I'm currently working on your case about the error observed when importing report..I would like to ask for the following details for us to proceed with the investigation:<br />1. Username with support access. Make sure that this user has access to create affected report type<br />2. What is the type of the report that has issue with import?<br />3. Please provide example report definition template or file that we can use for test import<br />4. Please confirm if we can perform the import of report so we can replicate the issue.Thank you!.Best regards,.Lovely&nbsp;<br />Product Support &ndash; People<br />SAP Support\n",
        "\"\"\""
      ],
      "metadata": {
        "id": "Fqu2A3wEAm1E"
      },
      "execution_count": 11,
      "outputs": []
    },
    {
      "cell_type": "code",
      "source": [
        "nlp = spacy.load(\"en_core_web_sm\")\n",
        "doc = nlp(text)\n",
        "datesspacy = [ent.text for ent in doc.ents if ent.label_ == \"DATE\"]\n",
        "print(datesspacy)"
      ],
      "metadata": {
        "colab": {
          "base_uri": "https://localhost:8080/"
        },
        "id": "1epgmVSrBiKR",
        "outputId": "e3250b5a-1e68-40fd-e3a7-c2c751e820af"
      },
      "execution_count": 15,
      "outputs": [
        {
          "output_type": "stream",
          "name": "stdout",
          "text": [
            "['today', 'today']\n"
          ]
        }
      ]
    },
    {
      "cell_type": "code",
      "source": [],
      "metadata": {
        "id": "vC01IZM0H1eb"
      },
      "execution_count": null,
      "outputs": []
    }
  ]
}